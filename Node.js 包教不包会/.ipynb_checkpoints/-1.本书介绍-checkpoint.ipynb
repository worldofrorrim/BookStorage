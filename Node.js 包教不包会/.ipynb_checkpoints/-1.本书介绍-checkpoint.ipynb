{
 "cells": [
  {
   "cell_type": "markdown",
   "id": "2bc739df-6e44-4607-84f6-9ce98b49bcfe",
   "metadata": {},
   "source": [
    "# 介绍\n",
    "\n",
    "- [alsotang](https://github.com/alsotang) 著\n",
    "\n",
    "作者在 CNode 混了那么久，解答了不少 Node.js 初学者们的问题。\n",
    "\n",
    "回头想想，那些问题所需要的思路都不难，但大部分人由于练手机会少，所以在遇到问题的时候很无措。国内唯一一本排的上号的 Node.js 书是 @朴灵 的《深入浅出 Node.js》,但这本书离实战还是比较远的。\n",
    "\n",
    "这个课程是希望提供更多的 Node.js 实战机会，通过每一节精心安排的课程目标，让 Node.js 的初学者们可以循序渐进地，有目的有挑战地开展 Node.js 的学习。"
   ]
  },
  {
   "cell_type": "code",
   "execution_count": null,
   "id": "5a9a2279-13b5-40a8-9834-85ef6e516d77",
   "metadata": {},
   "outputs": [],
   "source": []
  }
 ],
 "metadata": {
  "kernelspec": {
   "display_name": "Python 3",
   "language": "python",
   "name": "python3"
  },
  "language_info": {
   "codemirror_mode": {
    "name": "ipython",
    "version": 3
   },
   "file_extension": ".py",
   "mimetype": "text/x-python",
   "name": "python",
   "nbconvert_exporter": "python",
   "pygments_lexer": "ipython3",
   "version": "3.7.4"
  }
 },
 "nbformat": 4,
 "nbformat_minor": 5
}
