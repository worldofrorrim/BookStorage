{
 "cells": [
  {
   "cell_type": "markdown",
   "id": "cfc09f1b-0d0a-421d-9a61-1c76fb47e2fc",
   "metadata": {
    "tags": [
     "Github极简教程"
    ]
   },
   "source": [
    "# 下载 github 仓库\n",
    "\n",
    "```\n",
    "$ git clone git@github.com:worldofrorrim/github-quick-start.git\n",
    "```"
   ]
  }
 ],
 "metadata": {
  "kernelspec": {
   "display_name": "Python 3",
   "language": "python",
   "name": "python3"
  },
  "language_info": {
   "codemirror_mode": {
    "name": "ipython",
    "version": 3
   },
   "file_extension": ".py",
   "mimetype": "text/x-python",
   "name": "python",
   "nbconvert_exporter": "python",
   "pygments_lexer": "ipython3",
   "version": "3.7.4"
  }
 },
 "nbformat": 4,
 "nbformat_minor": 5
}
