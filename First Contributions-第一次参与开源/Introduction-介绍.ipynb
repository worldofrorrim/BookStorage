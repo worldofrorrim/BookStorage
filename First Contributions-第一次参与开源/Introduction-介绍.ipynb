{
 "cells": [
  {
   "cell_type": "markdown",
   "id": "bcbe7adb-a2e6-4b51-8c83-756f6c40d77d",
   "metadata": {},
   "source": [
    "# Introduction 介绍\n",
    "\n",
    "- First Contributions 著\n",
    "\n",
    "万事开头难。特别是和其他人合作时，犯错格外令人不舒服。不过，开源的本质就是和其他人合作。我们希望为初学者带来一个简单的方法去学习及参与开源项目。\n",
    "\n",
    "阅读文章和观看教程会有所帮助。不过，有什么方法能比实际动手做更好？本项目旨在指导初学者及简化初学者参与开源的方式。记住：过程越轻松，学习效益越高。如果你想要做出第一次贡献，只需按照以下简单步骤操作即可。相信我，这将很好玩。\n",
    "\n"
   ]
  }
 ],
 "metadata": {
  "kernelspec": {
   "display_name": "Python 3",
   "language": "python",
   "name": "python3"
  },
  "language_info": {
   "codemirror_mode": {
    "name": "ipython",
    "version": 3
   },
   "file_extension": ".py",
   "mimetype": "text/x-python",
   "name": "python",
   "nbconvert_exporter": "python",
   "pygments_lexer": "ipython3",
   "version": "3.7.4"
  }
 },
 "nbformat": 4,
 "nbformat_minor": 5
}
