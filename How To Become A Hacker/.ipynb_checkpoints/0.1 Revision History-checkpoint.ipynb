{
 "cells": [
  {
   "cell_type": "markdown",
   "id": "54ae1183-c2f3-450e-aabd-0e1b05c60948",
   "metadata": {},
   "source": [
    "# 0.1 Revision History\n",
    "\n",
    "|version|date|author|about|\n",
    "|---|---|---|---|\n",
    "|Revision <br/>1.52| 03 January 2020|esr|Go makes a place as a plausible learning language,displacing Java.|\n",
    "|Revision <br/>1.51| 06 October 2017|esr|Link to \"Things Every Hacker Once Knew.\" Mention USB-stick distros.Many updated translation links.|\n",
    "|Revision <br/>1.50| 19 July 2015|esr|Added link to \"Let's Go Larval\".|\n",
    "|Revision <br/>1.49| 21 November 2014|esr|Added link to \"How To Learn Hacking\".|\n",
    "|Revision <br/>1.48| 19 June 2014|esr|freshmeat/freecode is dead,alas.|\n",
    "|Revision <br/>1.47| 20 May 2014|esr|Fix up various stale links.Join a hackerspace!|\n",
    "|Revision <br/>1.46| 25 Sep 2013|esr|Add micropatronage explanation and gittip link.Why you should not ask me for advice on how to get started.|\n",
    "|Revision <br/>1.45| 12 May 2013|esr|Open Solaris isn't, and Unity screwed the pooch.|\n",
    "|Revision <br/>1.44| 20 May 2012|esr|Updated the critique of Java.|\n",
    "|Revision <br/>1.43| 07 Feb 2011|esr|Python passed Perl in popularity in 2010.|\n",
    "|Revision <br/>1.42| 22 Oct 2010|esr|Added \"Historical note\".|\n",
    "|Revision <br/>1.40| 3 Nov 2008|esr|Link fixes.|\n",
    "|Revision <br/>1.39| 14 Aug 2008|esr|Link fixes.|\n",
    "|Revision <br/>1.38| 8 Jan 2008|esr|Deprecate Java as a language to learn early.|\n",
    "|Revision <br/>1.37| 4 Oct 2007 |esr|Recommend Ubuntu as a Unix distro for newbies.|"
   ]
  },
  {
   "cell_type": "code",
   "execution_count": null,
   "id": "fc2dc41f-f19b-4b37-8464-f1468c2ea750",
   "metadata": {},
   "outputs": [],
   "source": []
  }
 ],
 "metadata": {
  "kernelspec": {
   "display_name": "Python 3",
   "language": "python",
   "name": "python3"
  },
  "language_info": {
   "codemirror_mode": {
    "name": "ipython",
    "version": 3
   },
   "file_extension": ".py",
   "mimetype": "text/x-python",
   "name": "python",
   "nbconvert_exporter": "python",
   "pygments_lexer": "ipython3",
   "version": "3.7.4"
  }
 },
 "nbformat": 4,
 "nbformat_minor": 5
}
