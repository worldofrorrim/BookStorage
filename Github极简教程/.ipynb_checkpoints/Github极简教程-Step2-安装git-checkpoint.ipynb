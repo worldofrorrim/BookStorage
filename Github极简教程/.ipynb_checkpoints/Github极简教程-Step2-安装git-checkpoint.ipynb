{
 "cells": [
  {
   "cell_type": "markdown",
   "id": "f8801a8f-e80b-4a93-98cd-9748da558d6f",
   "metadata": {
    "tags": [
     "Github极简教程"
    ]
   },
   "source": [
    "# Github极简教程-Step2-安装git\n",
    "\n",
    "## 1. 安装 `homebrew`\n",
    "\n",
    "```shell\n",
    "$ /usr/bin/ruby -e \"$(curl -fsSL https://raw.githubusercontent.com/Homebrew/install/master/install)\"\n",
    "```\n",
    "\n",
    "## 2. 安装 `git`\n",
    "\n",
    "```shell\n",
    "brew install git\n",
    "```"
   ]
  }
 ],
 "metadata": {
  "kernelspec": {
   "display_name": "Python 3",
   "language": "python",
   "name": "python3"
  },
  "language_info": {
   "codemirror_mode": {
    "name": "ipython",
    "version": 3
   },
   "file_extension": ".py",
   "mimetype": "text/x-python",
   "name": "python",
   "nbconvert_exporter": "python",
   "pygments_lexer": "ipython3",
   "version": "3.7.4"
  }
 },
 "nbformat": 4,
 "nbformat_minor": 5
}
