{
 "cells": [
  {
   "cell_type": "markdown",
   "id": "b0604345-5104-45ad-870a-96c4cfc6d4e5",
   "metadata": {},
   "source": [
    "# 0.0 Introduction\n",
    "\n",
    "Eric Steven Raymond\n",
    "\n",
    "[Thyrsus Enterprises](http://catb.org/~esr/)\n",
    "\n",
    "`<esr@thyrsus.com>`\n",
    "\n",
    "Copyright © 2001 Eric S. Raymond"
   ]
  },
  {
   "cell_type": "code",
   "execution_count": null,
   "id": "d01e79f1-d4d1-46db-8d3a-cc73ae08994e",
   "metadata": {},
   "outputs": [],
   "source": []
  }
 ],
 "metadata": {
  "kernelspec": {
   "display_name": "Python 3",
   "language": "python",
   "name": "python3"
  },
  "language_info": {
   "codemirror_mode": {
    "name": "ipython",
    "version": 3
   },
   "file_extension": ".py",
   "mimetype": "text/x-python",
   "name": "python",
   "nbconvert_exporter": "python",
   "pygments_lexer": "ipython3",
   "version": "3.7.4"
  }
 },
 "nbformat": 4,
 "nbformat_minor": 5
}
