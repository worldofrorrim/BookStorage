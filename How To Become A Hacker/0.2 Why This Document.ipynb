{
 "cells": [
  {
   "cell_type": "markdown",
   "id": "b1efe898-c401-4335-9df0-a83727a981e2",
   "metadata": {},
   "source": [
    "# Why This Document?\n",
    "\n",
    "As editor of the [Jargon File](http://www.catb.org/jargon) and author of a few other well-known documents of similar nature,I often get email requests from enthusiastic network newbies asking (in effect) \"how can I learn to be a wizardly hacker?\". Back in 1996 I noticed that there didn't seem to be any other FAQs or web documents that addressed this vital question,so I started this one. A lot of hackers now consider it definitive,and Isuppose that means it is. Still,I don't claim to be the exclusive authority on this topic;if you don't like what you read here,write you own.\n",
    "\n",
    "\n"
   ]
  }
 ],
 "metadata": {
  "kernelspec": {
   "display_name": "Python 3",
   "language": "python",
   "name": "python3"
  },
  "language_info": {
   "codemirror_mode": {
    "name": "ipython",
    "version": 3
   },
   "file_extension": ".py",
   "mimetype": "text/x-python",
   "name": "python",
   "nbconvert_exporter": "python",
   "pygments_lexer": "ipython3",
   "version": "3.7.4"
  }
 },
 "nbformat": 4,
 "nbformat_minor": 5
}
