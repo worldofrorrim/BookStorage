{
 "cells": [
  {
   "cell_type": "markdown",
   "id": "b800b776-4f38-4454-bfe2-abdc1cfb7849",
   "metadata": {},
   "source": [
    "# Variables and values\n",
    "\n",
    "Elements of Data Science\n",
    "\n",
    "by [Allen Downey](https://allendowney.com/)\n",
    "\n",
    "[MIT License](https://opensource.org/licenses/MIT)\n",
    "\n",
    "## Goals\n",
    "\n",
    "The goal of these notebooks is to give you the tools you need to execute a data science project from beginning to end. We'll start with some basic programming concepts and work our way toward data science tools.\n",
    "\n",
    "If you already have some programming experience,the first few notebooks might be a little slow. But there might be some material,specific to data science,that you have not seen before.\n",
    "\n",
    "If you have not programmed before,you should expect to face some challenges. I have done my best to explain everything as we go along; I try not to assume anything. And there are exercises throughout the notebooks that should help you learn,and remember what you learned.\n",
    "\n",
    "Programming is a super power. As you learn to program, I hope you feel empowered to take on bigger challenges. But programming can also be frustrating. It might take some persistence to get past some rough spots.\n",
    "\n",
    "The topics in this notebook include:\n",
    "\n",
    "- Using Jupyter to write and run Python code.\n",
    "\n",
    "- Basic programming features in Python:variables and values.\n",
    "\n",
    "- Translating formulas from math notation to Python.\n",
    "\n",
    "Along the way, we'll review a couple of math topics I assume you have seen before,logarithms and algebra.\n"
   ]
  },
  {
   "cell_type": "markdown",
   "id": "b5b7680c-5a9e-4578-bd4d-aa0ffd5eab5a",
   "metadata": {},
   "source": [
    "## Jupyter\n"
   ]
  },
  {
   "cell_type": "markdown",
   "id": "d0df7c8e-1a0a-41f2-b835-e0eb10e0c81b",
   "metadata": {},
   "source": [
    "This is a Jupyter notebook. Jupyter is a software development environment,which means you can use it to write and run programs in Python and other programming languages.\n",
    "\n",
    "A Jupyter notebook is made up of cells,where each cell contains either text or code you can run.\n",
    "\n",
    "If you are running this notebook on Colab,you should see buttons in the top left that say \"+ Code\" and \"+ Text\". The first one adds code cell and the second adds a text cell.\n",
    "\n",
    "If you want to try them out,select this cell by clicking on it, then press the \"+ Text\". A new cell should appear below this one.\n",
    "\n",
    "Type something in the cell. You can use the buttons to format it,or you can mark up the text using [Markdown](https://www.markdownguide.org/basic-syntax/). When you are done,hold down Shift and press Enter,which will format the text you just typed and then move to the next cell.\n",
    "\n",
    "If you select a Code cell,you should see a button on the left with a triangle inside a circle,which is the icon for \"Play\".If you press this button,Jupyter runs the code in the cell and displays the results.\n",
    "\n",
    "When you run code in a notebook for the first time,you might get a message warning you about the things a notebook can do.If you are running a notebook from a source you trust,which I hope includes me,you can press \"Run Anyway\".\n",
    "\n",
    "Instead of clicking the \"Play\" button,you can also run the code in a cell by holding down Shift and pressing Enter."
   ]
  },
  {
   "cell_type": "markdown",
   "id": "5c32a03c-fd68-4ead-8941-c8af5ae386d0",
   "metadata": {},
   "source": [
    "## Numbers"
   ]
  },
  {
   "cell_type": "markdown",
   "id": "7e356a7c-3ea9-4109-b327-0f7620f40a97",
   "metadata": {},
   "source": [
    "This notebook introduces the most fundamental tools for working with data: representing numbers and other values,and performing arithmetic operations.\n",
    "\n",
    "Python provides tools for working with numbers,words,dates,times,and locations(latitude and longitude).\n",
    "\n",
    "Let's start with numbers.Python can handle several types of numbres,but the two most common are:\n",
    "\n",
    "- `int`,which represents integer values like `3` ,and\n",
    "- `float` ,which represents numbers that have a fraction part, like `3.14159`.\n",
    "\n",
    "Most often, we use `int` to represent counts and `float` to represent measurements. Here's an example of an `int` and a `float`:"
   ]
  },
  {
   "cell_type": "code",
   "execution_count": null,
   "id": "72861edc-d924-48a9-bd25-c3aafb36269f",
   "metadata": {},
   "outputs": [],
   "source": [
    "3"
   ]
  },
  {
   "cell_type": "code",
   "execution_count": null,
   "id": "dd985d13-2d9e-463e-be24-6b74f7f0f0c1",
   "metadata": {},
   "outputs": [],
   "source": [
    "3.14159"
   ]
  },
  {
   "cell_type": "markdown",
   "id": "a01a5ac0-47aa-4972-a44f-f7769a64fda2",
   "metadata": {},
   "source": [
    "`float` is short for \"floating-point\",which is the name for the way these numbers are stored.\n",
    "\n",
    "**Exercise**: Create a code cell below this one and type in the following number: `1.2345e3`\n",
    "\n",
    "Then run the cell. The output should be `1234.5`\n",
    "\n",
    "The `e` in `1.2345e3` stands for \"exponent\".This way of writing numbers is a version of scientific notation that means $\\begin{aligned} 1.2345 \\times 10^3 \\end{aligned}$ .If you are not familiar with scientific notation,[you might want to read this](https://en.wikipedia.org/wiki/Scientific_notation)."
   ]
  },
  {
   "cell_type": "code",
   "execution_count": null,
   "id": "05e6dd6f-6c75-4abe-9dc5-76cca6277d7e",
   "metadata": {},
   "outputs": [],
   "source": [
    "1.2345e3"
   ]
  },
  {
   "cell_type": "markdown",
   "id": "33f89567-c640-4797-b32c-409edf96ed59",
   "metadata": {},
   "source": [
    "## Arthmetic\n",
    "\n",
    "Python provides operators that perform arithmetic.The operators that perform addition and subtraction are `+` and `-`:"
   ]
  },
  {
   "cell_type": "code",
   "execution_count": null,
   "id": "29a40c34-30ff-4b6f-83d4-8cf09969129b",
   "metadata": {},
   "outputs": [],
   "source": [
    "2 + 1"
   ]
  },
  {
   "cell_type": "code",
   "execution_count": null,
   "id": "601e0120-f065-4c99-8e41-7de7f23455c2",
   "metadata": {},
   "outputs": [],
   "source": [
    "2 - 1"
   ]
  },
  {
   "cell_type": "markdown",
   "id": "6a82f0bc-426c-45fb-bbb4-46261c11e198",
   "metadata": {},
   "source": [
    "The operators that perform multiplication and division are `*` and `/`:"
   ]
  },
  {
   "cell_type": "code",
   "execution_count": null,
   "id": "a2457f01-c640-4a8a-bce3-f4878f0ada22",
   "metadata": {},
   "outputs": [],
   "source": [
    "2 * 3"
   ]
  },
  {
   "cell_type": "code",
   "execution_count": null,
   "id": "00c8f746-bc8f-4057-af71-14092020e6eb",
   "metadata": {},
   "outputs": [],
   "source": [
    "2 / 3"
   ]
  },
  {
   "cell_type": "markdown",
   "id": "93c870f4-6f42-4ffb-b542-0b8674f78f52",
   "metadata": {},
   "source": [
    "And the operator for exponentiation is `**`:"
   ]
  },
  {
   "cell_type": "code",
   "execution_count": null,
   "id": "876b5648-13be-47db-90e2-c7eaaed605b1",
   "metadata": {},
   "outputs": [],
   "source": [
    "2 ** 3"
   ]
  },
  {
   "cell_type": "markdown",
   "id": "d724857d-5712-412b-9086-9a2c1a520857",
   "metadata": {},
   "source": [
    "Unlike math notation,Python does not allow \"implicit multiplication\".For example,in math notation,if you write $\\begin{aligned}\\ 3(2+1) \\end{aligned}$,that's understood to be the same as $\\begin{aligned}\\ 3 \\times (2+1) \\end{aligned}$.\n",
    "\n",
    "Python dows not allow that notation:"
   ]
  },
  {
   "cell_type": "code",
   "execution_count": null,
   "id": "ace498df-8a94-4017-86fc-e3da18f0de3d",
   "metadata": {},
   "outputs": [],
   "source": [
    "3 (2 + 1)"
   ]
  },
  {
   "cell_type": "markdown",
   "id": "b99eab02-d6c3-4b35-81aa-cc5b814eb291",
   "metadata": {},
   "source": [
    "In this example,the error message is not very helpful,which is why I am warning you now.If you want to multiply,you have to use the `*` operator:"
   ]
  },
  {
   "cell_type": "code",
   "execution_count": null,
   "id": "4e45682d-63c5-4269-b187-b7ec18d6ebcc",
   "metadata": {},
   "outputs": [],
   "source": [
    "3 * (2 + 1)"
   ]
  },
  {
   "cell_type": "markdown",
   "id": "4cc0f539-1c4e-4944-bdf4-4fd722017970",
   "metadata": {},
   "source": [
    "The arthmetic operators follow the rules of precedence you might have learned as \"PEMDAS\":\n",
    "\n",
    "- Parentheses before\n",
    "- Exponentiation before\n",
    "- Multiplication and division before\n",
    "- Addition and subtraction\n",
    "\n",
    "So in this expression:"
   ]
  },
  {
   "cell_type": "code",
   "execution_count": null,
   "id": "6fd18949-7240-4397-9054-1489a1bf715c",
   "metadata": {},
   "outputs": [],
   "source": [
    "1 + 2 * 3"
   ]
  },
  {
   "cell_type": "markdown",
   "id": "186f864f-d9be-483d-9538-02e870a6a0dd",
   "metadata": {},
   "source": [
    "The multiplication happens first.If that's not what you want,you can use parentheses to make the order of operations explicit:"
   ]
  },
  {
   "cell_type": "code",
   "execution_count": null,
   "id": "ee3c7cec-48c9-4eba-97fa-3963c815dcb4",
   "metadata": {},
   "outputs": [],
   "source": [
    "(1 + 2) * 3"
   ]
  },
  {
   "cell_type": "markdown",
   "id": "5169606a-65a9-4b7f-9872-15c724ea1168",
   "metadata": {},
   "source": [
    "**Exercise:** Write a Python expression that raises `1+2` to the power `3*4` .The answer should be `531441`."
   ]
  },
  {
   "cell_type": "markdown",
   "id": "b19a46ba-c18b-48e8-b451-8ac714ccf628",
   "metadata": {},
   "source": [
    "Note:in the cell below,it should say"
   ]
  },
  {
   "cell_type": "code",
   "execution_count": null,
   "id": "5219f174-ea8d-4cf7-abb7-20c5c2edc3dd",
   "metadata": {},
   "outputs": [],
   "source": [
    "# Solution goes here"
   ]
  },
  {
   "cell_type": "markdown",
   "id": "ee0b10f4-56c8-4c24-a505-02bac2d25c91",
   "metadata": {},
   "source": [
    "Lines like this that begin with `#` are \"comments\";they provide information,but they have no effect when the program runs.\n",
    "\n",
    "When you do this exercise,you should delete the comment and replace it with your solution."
   ]
  },
  {
   "cell_type": "code",
   "execution_count": null,
   "id": "14c9c682-d88d-4201-af9b-74a46cc9ac7d",
   "metadata": {},
   "outputs": [],
   "source": [
    "# Solution goes here"
   ]
  },
  {
   "cell_type": "markdown",
   "id": "3534635a-21dd-4cb5-a626-43b856917280",
   "metadata": {},
   "source": [
    "## Math functions\n",
    "\n",
    "Python provides functions that compute a all the usual mathematical functions,like `sin` and `cos`,`exp` and `log`.\n",
    "\n",
    "However,they are not part of Python itself;they are in a \"library\",which is a collection of functions that supplement the Python language.\n",
    "\n",
    "Actually,there are serveral libraries that provide math functions;the one we'll use is called NumPy,which stands for \"Numerical Python\",and is pronounced \"num' pie\".\n",
    "\n",
    "Before you can use a library,you have to \"import\" it.Here's how we import NumPy:"
   ]
  },
  {
   "cell_type": "code",
   "execution_count": null,
   "id": "0de73494-d037-4f66-b3cc-612dd08f76ce",
   "metadata": {},
   "outputs": [],
   "source": [
    "import numpy as np"
   ]
  },
  {
   "cell_type": "markdown",
   "id": "1c2ac5b9-9728-4a23-934c-59f9813feef4",
   "metadata": {},
   "source": [
    "It is conventional to import `numpy` as `np`,which means we can refer to it by the short name `np` rather than the longre name `numpy`.\n",
    "\n",
    "Note that pretty much everything is case-sensitive,which means that `numpy` is not the same as `NumPy`.So even though the name of the library is NumPy,when we import it we have to call it `numpy`.If you run the following cell,you should get an error:"
   ]
  },
  {
   "cell_type": "code",
   "execution_count": null,
   "id": "b9c310f5-1b75-468d-971c-f1d5005fde73",
   "metadata": {},
   "outputs": [],
   "source": [
    "import NumPy as np"
   ]
  },
  {
   "cell_type": "markdown",
   "id": "071845c5-39f7-4309-8d45-90e5afb92449",
   "metadata": {},
   "source": [
    "But if we import `np` correctly,we can use it to read the value `pi`,which is an approximation of the mathematical constant `π`."
   ]
  },
  {
   "cell_type": "code",
   "execution_count": null,
   "id": "f63778f3-1ae6-4706-bf43-0d9e9523d4c6",
   "metadata": {},
   "outputs": [],
   "source": [
    "np.pi"
   ]
  },
  {
   "cell_type": "markdown",
   "id": "395b8659-cbdc-4da4-8cbf-9a7403d9d8ea",
   "metadata": {},
   "source": [
    "The result is a `float` with 16 digits.As you probably know,we can't represent π with a finite number of digits,so this result is only approximate.\n",
    "\n",
    "`numpy` provides `log`, which computes the natural logarithm,and `exp`, which raises the constant `e` to a power."
   ]
  },
  {
   "cell_type": "code",
   "execution_count": null,
   "id": "c1b29349-4a15-45bc-9ca3-001e01af70fb",
   "metadata": {},
   "outputs": [],
   "source": [
    "np.log(100)"
   ]
  },
  {
   "cell_type": "code",
   "execution_count": null,
   "id": "95c81aad-fbef-445e-b15f-d21845369c6d",
   "metadata": {},
   "outputs": [],
   "source": [
    "np.exp(1)"
   ]
  },
  {
   "cell_type": "markdown",
   "id": "d622a406-503c-4865-b6e4-a2aac1a67aed",
   "metadata": {},
   "source": [
    "**Exercise:** Use these functions to confirm the mathematical identity $\\begin{aligned} log(e^x) = x\\end{aligned}$,which should be true for any value of x.\n",
    "\n",
    "With floating-point values,this identity should work for values of x between -700 and 700.What happens when you try it with larger and smaller values?"
   ]
  },
  {
   "cell_type": "code",
   "execution_count": null,
   "id": "a17cbfaa-73c4-4066-8985-c4389cd4e3d8",
   "metadata": {},
   "outputs": [],
   "source": [
    "# Solution goes here"
   ]
  },
  {
   "cell_type": "markdown",
   "id": "d092383b-1dfe-4b74-96d8-bf79de5b064d",
   "metadata": {},
   "source": [
    "As this example shows,floating-point numbers are finite approximations,which means they don't always behave like math.\n",
    "\n",
    "As another example,see what happens when you add up `0.1` three times:"
   ]
  },
  {
   "cell_type": "code",
   "execution_count": null,
   "id": "3968eac4-7f3c-4d57-b2a3-d4b968156848",
   "metadata": {},
   "outputs": [],
   "source": [
    "0.1 + 0.1 + 0.1"
   ]
  },
  {
   "cell_type": "markdown",
   "id": "82bef103-ff0d-482c-9b6b-4c74abfe759e",
   "metadata": {},
   "source": [
    "The result is close to `0.3`,but not exact.\n",
    "\n",
    "We'll see other examples of floating-point approximation later,and learn some ways to deal with it."
   ]
  },
  {
   "cell_type": "markdown",
   "id": "32bd43cd-b441-46bd-89e3-59b3557f4e8e",
   "metadata": {},
   "source": [
    "## Variables"
   ]
  },
  {
   "cell_type": "markdown",
   "id": "9e122f1b-38fd-4cdc-a8c4-e4f675db622c",
   "metadata": {},
   "source": [
    "A variable is a name that refers to a value.\n",
    "\n",
    "The following statement assigns the `int` value 5 to a variable named `x`:"
   ]
  },
  {
   "cell_type": "code",
   "execution_count": null,
   "id": "c6a09fa5-6f72-4f70-9deb-b4c2e6311008",
   "metadata": {},
   "outputs": [],
   "source": [
    "x = 5"
   ]
  },
  {
   "cell_type": "markdown",
   "id": "4b85e869-8699-400c-a4c3-5e1f4560f20b",
   "metadata": {},
   "source": [
    "The variable we just created has the name `x` and the value 5.\n",
    "\n",
    "If a variable name appears at the end of a cell,Jupyter displays its value."
   ]
  },
  {
   "cell_type": "code",
   "execution_count": null,
   "id": "206bc026-edce-427d-8b2b-95dd236ae70b",
   "metadata": {},
   "outputs": [],
   "source": [
    "x"
   ]
  },
  {
   "cell_type": "markdown",
   "id": "c2601552-9307-412c-ad75-5c42b4b7f374",
   "metadata": {},
   "source": [
    "If we use `x` as part of an arithmetic operation,it represents the value 5:"
   ]
  },
  {
   "cell_type": "code",
   "execution_count": null,
   "id": "50a4bde3-e38e-4299-b6aa-2b90692e900d",
   "metadata": {},
   "outputs": [],
   "source": [
    "x + 1"
   ]
  },
  {
   "cell_type": "code",
   "execution_count": null,
   "id": "8f19d254-1c35-4c93-9fd7-c06c3970b65d",
   "metadata": {},
   "outputs": [],
   "source": [
    "x**2"
   ]
  },
  {
   "cell_type": "markdown",
   "id": "567953f4-9fce-44c3-aeff-920c0154a6c7",
   "metadata": {},
   "source": [
    "We can also use `x` with `numpy` functions:"
   ]
  },
  {
   "cell_type": "code",
   "execution_count": null,
   "id": "0405e08f-0b77-47f3-bb0e-a06b199e8f45",
   "metadata": {},
   "outputs": [],
   "source": [
    "np.exp(x)"
   ]
  },
  {
   "cell_type": "markdown",
   "id": "cc26e671-48ed-492e-b3d3-8a966420ccea",
   "metadata": {},
   "source": [
    "Notice that the result from `exp` is a `float`,even though the value of `x` is an `int`."
   ]
  },
  {
   "cell_type": "markdown",
   "id": "ec3e0d49-5c0b-412a-b194-e6b81a956daa",
   "metadata": {},
   "source": [
    "**Exercise:** If you have not programmed before,one of the things you have to get used to is that programming languages are picky about details.Natural languages,like English,and semi-formal languages,like math notation,are more forgiving.\n",
    "\n",
    "4 example in Ingli$h you kin get prackicly evRiThing rong-rong-rong and still be undr3stud.\n",
    "\n",
    "As another example,in math notation,parentheses and square brackets mean the same thing,you can write"
   ]
  },
  {
   "cell_type": "markdown",
   "id": "cda9f1b2-1d3e-45bd-af97-c881ad4beb4a",
   "metadata": {},
   "source": [
    "$\\begin{aligned}sin(wt)\\end{aligned}$\n",
    "\n",
    "or\n",
    "\n",
    "$\\begin{aligned}sin[wt]\\end{aligned}$\n",
    "\n",
    "Either one is fine.And you can leave out the parentheses altogether,as long as the meaning is clear:\n",
    "\n",
    "$\\begin{aligned}sin(wt)\\end{aligned}$\n",
    "\n",
    "In Python,every character counts.For example,the following are all different:"
   ]
  },
  {
   "cell_type": "raw",
   "id": "0e80cab0-7e79-4742-aea6-20e1259fc9ad",
   "metadata": {},
   "source": [
    "np.exp(x)\n",
    "np.Exp(x)\n",
    "np.exp[x]\n",
    "np.exp x"
   ]
  },
  {
   "cell_type": "markdown",
   "id": "104043a8-a13f-4055-951e-6f8513671cc1",
   "metadata": {},
   "source": [
    "While you are learning,I encourage you to make mistakes on purpose to see what goes wrong.Read the error messages carefully.Sometimes they are helpful and tell you exactly what's wrong.Other times they can be misleading.But if you have seen the message before,you might remember some likely causes.\n",
    "\n",
    "In the next cell,try out the different versions of `np.exp(x)` above,and see what error messages you get."
   ]
  },
  {
   "cell_type": "code",
   "execution_count": null,
   "id": "21eb35ef-5306-4e90-a7fa-9be639b5c9d2",
   "metadata": {},
   "outputs": [],
   "source": [
    "np.exp(x)"
   ]
  },
  {
   "cell_type": "markdown",
   "id": "19aa8ea9-5735-4567-98f2-b72e41e756fb",
   "metadata": {},
   "source": [
    "**Exrecise:** Search the NumPy documentation to find the function that computes square roots,and use it to compute a floating-point approximation of the golden ratio:\n",
    "$$\\begin{aligned} φ = \\frac{1 + 5}{2} \\end{aligned}$$\n",
    "\n",
    "Hint:The result should be close to `1.618`."
   ]
  },
  {
   "cell_type": "code",
   "execution_count": null,
   "id": "5cfe3f85-d0f6-4c15-8ce0-19edf637bbdb",
   "metadata": {},
   "outputs": [],
   "source": [
    "# Solution goes here"
   ]
  },
  {
   "cell_type": "markdown",
   "id": "02e187dd-89d4-449e-ab47-071bd44e55e1",
   "metadata": {},
   "source": [
    "## Save your work"
   ]
  },
  {
   "cell_type": "markdown",
   "id": "171130d3-f699-4c23-ac2a-b2cc78e0fa11",
   "metadata": {},
   "source": [
    "If you are running on Colab and you want to save your work,now is a good time to press the \"Copy to Drive\" button (near the upper left),which saves a copy of this notebook in your Google Drive.\n",
    "\n",
    "If you want to change the name of the file,you can click on the name in the upper left.\n",
    "\n",
    "If you don't use Google Drive,look under the File menu to see other options:\n",
    "\n",
    "Once you make a copy,any additional changes you make will be saved automatically,so now you can continue without worrying about losing your work."
   ]
  },
  {
   "cell_type": "markdown",
   "id": "2f7fe4a5-6ff5-4971-95b9-bf10de353715",
   "metadata": {},
   "source": [
    "## Calculation with variables"
   ]
  },
  {
   "cell_type": "markdown",
   "id": "23a951d6-62b0-4e1c-adc5-e49646217f58",
   "metadata": {},
   "source": [
    "Now let's use variables to solve a problem involving mathematical calculation.\n",
    "\n",
    "Suppose we have the following formula for computing compound interest [from Wikipedia:](https://en.wikipedia.org/wiki/Compound_interest#Periodic_compounding)\n",
    "\n",
    "\"The total accumulated value, including the principal sum PP plus compounded interest II, is given by the formula:"
   ]
  },
  {
   "cell_type": "markdown",
   "id": "ef17f8b1-0ab4-4c0f-8129-b2c76d574f30",
   "metadata": {},
   "source": [
    "$ V = P(1 + \\frac{r}{n})^{nt} $"
   ]
  },
  {
   "cell_type": "markdown",
   "id": "2ff628d5-d29d-49d3-a282-551253c735f5",
   "metadata": {},
   "source": [
    "where:"
   ]
  },
  {
   "cell_type": "markdown",
   "id": "5b9e08ef-bcb4-41a0-b78c-01597bf86ff7",
   "metadata": {},
   "source": [
    "* P is the original principal sum\n",
    "* V is the total accumulated value\n",
    "* r is the nominal annual interest rate\n",
    "* n is the compounding frequency\n",
    "* t is the overall length of time the interest is applied (expressed using the same time units as r,usually years)."
   ]
  },
  {
   "cell_type": "markdown",
   "id": "9a96f3ba-3523-4b11-83a0-47adca1d6d9d",
   "metadata": {},
   "source": [
    "\"Suppose a principal amount of $1,500 is deposited in a bank paying an annual interest rate of 4.3%, compounded quarterly. Then the balance after 6 years is found by using the formula above, with"
   ]
  },
  {
   "cell_type": "code",
   "execution_count": null,
   "id": "105854cd-34ec-4ea9-aadf-ba857cad5453",
   "metadata": {},
   "outputs": [],
   "source": [
    "P = 1500\n",
    "r = 0.043\n",
    "n = 4\n",
    "t = 6"
   ]
  },
  {
   "cell_type": "markdown",
   "id": "482b2b82-0c8c-4260-9b40-70464620a04a",
   "metadata": {},
   "source": [
    "We can compute the total accumulated value by translating the mathematical formula into Python syntax:"
   ]
  },
  {
   "cell_type": "code",
   "execution_count": null,
   "id": "d4b8f1d5-7d20-448f-9b97-c089e0305ce4",
   "metadata": {},
   "outputs": [],
   "source": [
    "P * (1 + r/n)**(n*t)"
   ]
  },
  {
   "cell_type": "markdown",
   "id": "a351a533-6916-45f3-ae36-a855b9652ab1",
   "metadata": {},
   "source": [
    "**Exercise:** Continuing the example from Wikipedia:\n",
    "\n",
    "\"Suppose the same amount of $1,500 is compounded biennially\", so n = 1/2.\n",
    "\n",
    "What would the total value be after 6 years? Hint: we expect the answer to be a bit less than the previous answer."
   ]
  },
  {
   "cell_type": "code",
   "execution_count": null,
   "id": "0b2745f6-dc47-4764-8d32-98eeb91c91b6",
   "metadata": {},
   "outputs": [],
   "source": [
    "# Solution goes here"
   ]
  },
  {
   "cell_type": "markdown",
   "id": "df9d9461-a196-40d7-930f-e9e68723f0a5",
   "metadata": {},
   "source": [
    "Exercise: If interest is compounded continuously, the value after time tt is given by the formula:\n",
    "\n",
    "$V=P~e^{rt}$\n",
    " \n",
    "\n",
    "Translate this function into Python and use it compute the value of the investment in the previous example with continuous compounding. Hint: we expect the answer to be a bit more than the previous answers."
   ]
  },
  {
   "cell_type": "code",
   "execution_count": null,
   "id": "ffe78ba7-07c6-4b96-9780-64c56f2f38db",
   "metadata": {},
   "outputs": [],
   "source": [
    "# Solution goes here"
   ]
  },
  {
   "cell_type": "markdown",
   "id": "5d69f166-eea0-4d65-bd74-d7e97cd8aee0",
   "metadata": {},
   "source": [
    "**Exercise** Applying your algebra skills, solve the previous equation for rr. Now use the formula you just derived to answer this question.\n",
    "\n",
    "\"Harvard's tuition in 1970 was $4,070 (not including room, board, and fees).\n",
    "\n",
    "\"In 2019 it is $46,340. What was the annual rate of increase over that period, treating it as if it had compounded continuously?\""
   ]
  },
  {
   "cell_type": "code",
   "execution_count": null,
   "id": "c5732ffc-a582-45af-984f-438b10627545",
   "metadata": {},
   "outputs": [],
   "source": [
    "# Solution goes here"
   ]
  },
  {
   "cell_type": "markdown",
   "id": "8018a2fc-9c7e-4700-9562-01f54146a9b5",
   "metadata": {},
   "source": [
    "The point of this exercise is to practice using variables. But it is also a reminder about logarithms, which we will use extensively."
   ]
  },
  {
   "cell_type": "markdown",
   "id": "cb61aece-8e18-4a3f-b5ba-fae954f57b69",
   "metadata": {},
   "source": [
    "## A little more Jupyter"
   ]
  },
  {
   "cell_type": "markdown",
   "id": "16e4c7bd-0f33-4481-b238-49f1f6d353c7",
   "metadata": {},
   "source": [
    "Here are a few tips on using Jupyter to compute and display values.\n",
    "\n",
    "Generally,if there is a single expression in a cell,Jupyter computes the value of the expression and displays the result.\n",
    "\n",
    "For example,we've already seen how to display the value of `np.pi`:"
   ]
  },
  {
   "cell_type": "code",
   "execution_count": null,
   "id": "0c3aa00f-933d-4ece-8f75-5cb4b1528b92",
   "metadata": {},
   "outputs": [],
   "source": [
    "np.pi"
   ]
  },
  {
   "cell_type": "markdown",
   "id": "064a2ea4-bfae-4da5-be6b-1a2365063a8c",
   "metadata": {},
   "source": [
    "Here's a more complex example with functions,operators,and numbers:"
   ]
  },
  {
   "cell_type": "code",
   "execution_count": null,
   "id": "55a1e2d8-4d34-48f6-a5d5-1e6ffe409bcf",
   "metadata": {},
   "outputs": [],
   "source": [
    "1 / np.sqrt(2 * np.pi) * np.exp(-3**2 / 2)"
   ]
  },
  {
   "cell_type": "markdown",
   "id": "f70babde-d287-4407-9b88-1563e6085c94",
   "metadata": {},
   "source": [
    "If you put more than one expression in a cell,Jupyter computes them all,but it only display the result from the last:"
   ]
  },
  {
   "cell_type": "code",
   "execution_count": null,
   "id": "777eaf13-32b1-4d23-aaf5-2fe959ae916e",
   "metadata": {},
   "outputs": [],
   "source": [
    "1\n",
    "2 + 3\n",
    "np.exp(1)\n",
    "(1 + np.sqrt(5)) / 2"
   ]
  },
  {
   "cell_type": "markdown",
   "id": "66e007b4-5955-48c1-b26f-adec7fe5bca3",
   "metadata": {},
   "source": [
    "If you want to display more than one value,you can separate them with commas:"
   ]
  },
  {
   "cell_type": "code",
   "execution_count": null,
   "id": "9dad5353-5b5f-4ecd-87c8-b5329dde206b",
   "metadata": {},
   "outputs": [],
   "source": [
    "1, 2 + 3, np.exp(1),(1 + np.sqrt(5)) / 2"
   ]
  },
  {
   "cell_type": "markdown",
   "id": "0f186752-9443-4ed0-8d50-18d372e417e3",
   "metadata": {},
   "source": [
    "That result is actually a tuple,which you will learn about in the next notebook.\n",
    "\n",
    "Here's one last Jupyter tip: when you assign a value to variable,Jupyter does not display the value: "
   ]
  },
  {
   "cell_type": "code",
   "execution_count": null,
   "id": "b1fc0d9d-f85d-4bd5-b35d-0d8e3ed2dfba",
   "metadata": {},
   "outputs": [],
   "source": [
    "phi = (1 + np.sqrt(5)) / 2"
   ]
  },
  {
   "cell_type": "markdown",
   "id": "a90a2638-da6d-4592-8e0c-bd3348c837bb",
   "metadata": {},
   "source": [
    "So it is idiomatic to assign a value to a variable and immediately display the result:"
   ]
  },
  {
   "cell_type": "code",
   "execution_count": null,
   "id": "6934f241-c79c-4837-a850-a2d26207b577",
   "metadata": {},
   "outputs": [],
   "source": [
    "phi = (1 + np.sqrt(5)) / 2\n",
    "phi"
   ]
  },
  {
   "cell_type": "markdown",
   "id": "5c5185d9-5fd7-4a54-940d-7fbbb9183254",
   "metadata": {},
   "source": [
    "**Exercise:** Display the value of φ and its inverse, $\\begin{aligned}1 / φ\\end{aligned}$，on a single line."
   ]
  },
  {
   "cell_type": "code",
   "execution_count": null,
   "id": "c7a96ceb-0b19-45d5-81df-fd451dbaf994",
   "metadata": {},
   "outputs": [],
   "source": [
    "# Solution goes here"
   ]
  },
  {
   "cell_type": "markdown",
   "id": "c14e1c35-c55e-4e9f-9713-7f7cc4189aee",
   "metadata": {},
   "source": [
    "## The Colab mental model"
   ]
  },
  {
   "cell_type": "markdown",
   "id": "cecd1649-eefc-4c84-9f07-0a39e521aefa",
   "metadata": {},
   "source": [
    "Congratulations on completing the first notebook!\n",
    "\n",
    "Now that you have worked with Colab,you might find it helpful to watch this video,where I explain a little more about how it works:"
   ]
  },
  {
   "cell_type": "code",
   "execution_count": null,
   "id": "26e39d03-254a-4d98-aa96-3a6ed06b7f8a",
   "metadata": {},
   "outputs": [],
   "source": [
    "from IPython.display import YouTubeVideo\n",
    "\n",
    "YouTubeVideo(\"eIY-PsYBrPs\")"
   ]
  },
  {
   "cell_type": "code",
   "execution_count": 45,
   "id": "56a1c4c1-2ce4-4456-8522-e53cc4d2b343",
   "metadata": {},
   "outputs": [],
   "source": [
    "# your code here"
   ]
  }
 ],
 "metadata": {
  "kernelspec": {
   "display_name": "Python 3",
   "language": "python",
   "name": "python3"
  },
  "language_info": {
   "codemirror_mode": {
    "name": "ipython",
    "version": 3
   },
   "file_extension": ".py",
   "mimetype": "text/x-python",
   "name": "python",
   "nbconvert_exporter": "python",
   "pygments_lexer": "ipython3",
   "version": "3.7.4"
  }
 },
 "nbformat": 4,
 "nbformat_minor": 5
}
