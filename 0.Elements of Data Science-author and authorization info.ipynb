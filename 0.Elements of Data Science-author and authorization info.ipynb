{
 "cells": [
  {
   "cell_type": "markdown",
   "id": "4bff1105-6456-4811-b95a-66a153a035a3",
   "metadata": {},
   "source": [
    "# Elements of Data Science\n",
    "\n",
    "Allen Downey 著 \n",
    "\n",
    "> Professor at Olin College,author of *Think Python* and other books,and blauthor of *Probably Overthinking it.* AllenDowney@github\n",
    "\n",
    "An introduction to data science in Python,for people with no programming experience.\n",
    "\n",
    "面向没有编程经验的人的 Python 数据科学简介。这份手册展示了小而强大的 Python 子集，使您能够尽快进行数据科学的实际工作。"
   ]
  },
  {
   "cell_type": "markdown",
   "id": "fc32c316-f6a4-4082-8c31-ef5faf6d2fb9",
   "metadata": {},
   "source": [
    "## 授权信息\n",
    "\n",
    "本书由 XUE.cn 基于 MIT License 发布。\n",
    "作者：Allen Downey https://github.com/AllenDowney\n",
    "内容源:https://github.com/AllenDowney/ElementsOfDataScience"
   ]
  },
  {
   "cell_type": "code",
   "execution_count": null,
   "id": "88301b8d-7974-4b08-8555-41a16d64a6bb",
   "metadata": {},
   "outputs": [],
   "source": []
  }
 ],
 "metadata": {
  "kernelspec": {
   "display_name": "Python 3",
   "language": "python",
   "name": "python3"
  },
  "language_info": {
   "codemirror_mode": {
    "name": "ipython",
    "version": 3
   },
   "file_extension": ".py",
   "mimetype": "text/x-python",
   "name": "python",
   "nbconvert_exporter": "python",
   "pygments_lexer": "ipython3",
   "version": "3.7.4"
  }
 },
 "nbformat": 4,
 "nbformat_minor": 5
}
