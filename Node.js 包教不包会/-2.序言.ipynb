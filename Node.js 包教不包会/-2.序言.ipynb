{
 "cells": [
  {
   "cell_type": "markdown",
   "id": "eabfec91-a17a-400b-9e98-7e796b06a897",
   "metadata": {},
   "source": [
    "# 序言\n",
    "## 为何写作此课程\n",
    "\n",
    "在 [CNode]() 混了那么久，解答了不少 `Node.js` 初学者们的问题。回头想想，那些问题所需要的思路都不难，但大部分人由于练手机会少，所以在遇到问题的时候很无措。国内唯一一本排的上号的 `Node.js` 书是 [@朴灵](https://github.com/JacksonTian) 的[《深入浅出 Node.js》](http://book.douban.com/subject/25768396/)，但这本书离实战还是比较远的。\n",
    "\n",
    "这个课程是希望提供更多的 Node.js 实战机会，通过每一节精心安排的课程目标，让 `Node.js` 的初学者们可以循序渐进地，有目的有挑战地开展 `Node.js` 的学习。\n",
    "\n",
    "## 广告\n",
    "\n",
    "**需要内推腾讯的同学请参照此贴：** https://cnodejs.org/topic/58351689bde2b59e06141e9f\n",
    "\n",
    "更多 `Node.js` 入门资料请前往: https://cnodejs.org/getstart\n",
    "\n",
    "新手搭建 `Node.js` 云主机，推荐使用无需备案的 [DigitalOcean](https://www.digitalocean.com/)(https://www.digitalocean.com/?refcode=eba02656eeb3)\n",
    "\n",
    "## 课程列表\n",
    "* Lesson 0: 《搭建 Node.js 开发环境》\n",
    "* Lesson 1: 《一个最简单的 express 应用》\n",
    "* Lesson 2: 《学习使用外部模块》\n",
    "* Lesson 3: 《使用 superagent 与 cheerio 完成简单爬虫》\n",
    "* Lesson 4: 《使用 eventproxy 控制并发》\n",
    "* Lesson 5: 《使用 async 控制并发》\n",
    "* Lesson 6: 《测试用例：mocha，should，istanbul》\n",
    "* Lesson 7: 《浏览器端测试：mocha，chai，phantomjs》 by [@elrrrrrrr](https://github.com/elrrrrrrr)\n",
    "* Lesson 8: 《测试用例：supertest》\n",
    "* Lesson 9: 《正则表达式》\n",
    "* Lesson 10: 《benchmark 怎么写》\n",
    "* Lesson 11: 《作用域与闭包：this，var，(function () {})》 by [@Ricardo-Li](https://github.com/Ricardo-Li)\n",
    "* Lesson 12: 《线上部署：heroku》\n",
    "* Lesson 13: 《持续集成平台：travis》\n",
    "* Lesson 14: 《js 中的那些最佳实践》\n",
    "* Lesson 15: 《Mongodb 与 Mongoose 的使用》\n",
    "* Lesson 16: 《cookie 与 session》 by[@Ricardo-Li](https://github.com/Ricardo-Li)\n",
    "* Lesson 17: 《使用 promise 替代回调函数》 by [@eeandrew](https://github.com/eeandrew)\n",
    "* Lesson 18: 《何为 connect 中间件》 by [@albin3](https://github.com/albin3)\n",
    "\n",
    "## 计划\n",
    "\n",
    "* 《http 中 各个header的含义》\n",
    "* 《操作 mysql》\n",
    "* 《在全新的 vps 上搭建node.js、mongodb、nginx》\n",
    "* 《一个简单的 blog 程序》\n",
    "\n",
    "## 本课程特点\n",
    "\n",
    "* 每一课的课程挑战如果有能力完成，则可考虑放弃阅读课程内容\n",
    "* 对 web 开发初学者不友好，对 Windows 用户不友好，对 ruby on rails 开发者友好\n",
    "* 内容笼统，课程重点随心所欲\n",
    "\n",
    "## License \n",
    "\n",
    "MIT"
   ]
  },
  {
   "cell_type": "code",
   "execution_count": null,
   "id": "7d82c3c1-fcfc-4e0b-940a-a15f81a7e76c",
   "metadata": {},
   "outputs": [],
   "source": []
  }
 ],
 "metadata": {
  "kernelspec": {
   "display_name": "Python 3",
   "language": "python",
   "name": "python3"
  },
  "language_info": {
   "codemirror_mode": {
    "name": "ipython",
    "version": 3
   },
   "file_extension": ".py",
   "mimetype": "text/x-python",
   "name": "python",
   "nbconvert_exporter": "python",
   "pygments_lexer": "ipython3",
   "version": "3.7.4"
  }
 },
 "nbformat": 4,
 "nbformat_minor": 5
}
