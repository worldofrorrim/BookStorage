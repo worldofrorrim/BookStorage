{
 "cells": [
  {
   "cell_type": "markdown",
   "id": "f135648c-bdac-4748-9d59-cc8c72e1162e",
   "metadata": {
    "tags": [
     "Github极简教程"
    ]
   },
   "source": [
    "# Github极简教程-Step5-创建 `github` 仓库\n",
    "在[创建仓库页面中](https://github.com/new)输入自定义的仓库名然后点击 `Create repository` 就可以了。\n"
   ]
  }
 ],
 "metadata": {
  "kernelspec": {
   "display_name": "Python 3",
   "language": "python",
   "name": "python3"
  },
  "language_info": {
   "codemirror_mode": {
    "name": "ipython",
    "version": 3
   },
   "file_extension": ".py",
   "mimetype": "text/x-python",
   "name": "python",
   "nbconvert_exporter": "python",
   "pygments_lexer": "ipython3",
   "version": "3.7.4"
  }
 },
 "nbformat": 4,
 "nbformat_minor": 5
}
