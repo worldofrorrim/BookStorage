{
 "cells": [
  {
   "cell_type": "markdown",
   "id": "12d07d98-a1d2-446a-b836-f2fac994db1e",
   "metadata": {
    "tags": [
     "Github极简教程"
    ]
   },
   "source": [
    "# Github极简教程-Step3-配置git\n",
    "\n",
    "配置一下全局用户名和邮箱\n",
    "\n",
    "```\n",
    "$ git config --global user.name \"worldofrorrim\"\n",
    "\n",
    "```\n",
    "\n",
    "```\n",
    "$ git config --global user.email \"worldofrorrim@gmail.com\"\n",
    "```\n",
    "\n",
    "\n",
    "```\n",
    "$ git config --global --list # 查看全局配置\n",
    "\n",
    "```"
   ]
  }
 ],
 "metadata": {
  "kernelspec": {
   "display_name": "Python 3",
   "language": "python",
   "name": "python3"
  },
  "language_info": {
   "codemirror_mode": {
    "name": "ipython",
    "version": 3
   },
   "file_extension": ".py",
   "mimetype": "text/x-python",
   "name": "python",
   "nbconvert_exporter": "python",
   "pygments_lexer": "ipython3",
   "version": "3.7.4"
  }
 },
 "nbformat": 4,
 "nbformat_minor": 5
}
