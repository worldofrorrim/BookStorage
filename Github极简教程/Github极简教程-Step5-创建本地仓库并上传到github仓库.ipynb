{
 "cells": [
  {
   "cell_type": "markdown",
   "id": "23eb9dcb-7e7e-46c9-9128-5510a47fe57e",
   "metadata": {
    "tags": [
     "Github极简教程"
    ]
   },
   "source": [
    "# 创建本地仓库并上传到 `github` 仓库\n",
    "\n",
    "```\n",
    "$ git init        # 创建本地仓库\n",
    "$ touch README.md      # 创建 `README` 文件\n",
    "$ git add .                  # 将文件添加到暂存区，暂存区中保存的是将要提交的文件\n",
    "$ git commit -m \"first commit\"      # 提交暂存区的文件变化到本地仓库\n",
    "$ git remote add origin git@github.com:worldofrorrim/github-quick-start.git  # 添加一个远程仓库并将名字标记为 `origin`\n",
    "$ git push origin master                        # 将本地仓库的内容提交到名为 `origin` 的远程仓库的 `master` 分支\n",
    "```\n"
   ]
  }
 ],
 "metadata": {
  "kernelspec": {
   "display_name": "Python 3",
   "language": "python",
   "name": "python3"
  },
  "language_info": {
   "codemirror_mode": {
    "name": "ipython",
    "version": 3
   },
   "file_extension": ".py",
   "mimetype": "text/x-python",
   "name": "python",
   "nbconvert_exporter": "python",
   "pygments_lexer": "ipython3",
   "version": "3.7.4"
  }
 },
 "nbformat": 4,
 "nbformat_minor": 5
}
