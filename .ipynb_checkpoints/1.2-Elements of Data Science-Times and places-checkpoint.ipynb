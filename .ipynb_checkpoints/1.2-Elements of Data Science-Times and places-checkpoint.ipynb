{
 "cells": [
  {
   "cell_type": "markdown",
   "id": "1c8ecba2-4eef-4ddc-9a88-d920866a7bad",
   "metadata": {},
   "source": [
    "Elements of Data Science\n",
    "\n",
    "by [Allen Downey](https://allendowney.com/)\n",
    "\n",
    "[MIT License](https://opensource.org/licenses/MIT)\n",
    "\n",
    "## Goals\n",
    "\n",
    "In the previous notebook,you learned about variables and two kinds of values:integers and floating-point numbers.\n",
    "\n",
    "In this notebook,you'll see some additional types:\n",
    "\n",
    "* Strings,which contain sequences of letters,are used to represent text data.\n",
    "* Timestamp values are used to represent dates and times.\n",
    "* And several ways to represent and display geographical locations.\n",
    "\n",
    "Not every data science project uses all of these types,but many projects use at least one.\n",
    "\n",
    "## A note\n",
    "\n",
    "In these notebooks,I generally try to define terms when they are first used,and to explain the code examples as we go along.\n",
    "\n",
    "However,there are a few places where I provide code with the expectation that you will not understand all of the details yet.When that happens,I'll explain what you should or should not understand.\n",
    "\n",
    "If you are able to do the exercises,that probably means you are understanding what you need to understand."
   ]
  },
  {
   "cell_type": "markdown",
   "id": "b9770a4b-5d75-433b-bdee-0802722b1b1e",
   "metadata": {},
   "source": [
    "## Strings\n",
    "\n",
    "A **string** is a sequence of letters,numbers,and punctuation marks.\n",
    "\n",
    "In Python you can create a string by typing letters between single or double quotation marks."
   ]
  },
  {
   "cell_type": "code",
   "execution_count": null,
   "id": "e20b2497-3797-450a-b668-a9ab1727c9e9",
   "metadata": {},
   "outputs": [],
   "source": [
    "'Data'"
   ]
  },
  {
   "cell_type": "code",
   "execution_count": null,
   "id": "57c01f0e-9da4-4756-9a77-56a25eda2d97",
   "metadata": {},
   "outputs": [],
   "source": [
    "\"Science\""
   ]
  },
  {
   "cell_type": "markdown",
   "id": "7032ac46-d1b2-4d16-9c03-09db029b2fb7",
   "metadata": {},
   "source": [
    "And you can assign string values to variables."
   ]
  },
  {
   "cell_type": "code",
   "execution_count": null,
   "id": "53f16165-5e72-4906-b996-09695d1aee50",
   "metadata": {},
   "outputs": [],
   "source": [
    "first = 'Data'"
   ]
  },
  {
   "cell_type": "code",
   "execution_count": null,
   "id": "358dc0b6-c824-4f11-a3c9-dc773f7b707f",
   "metadata": {},
   "outputs": [],
   "source": [
    "last = \"Science\""
   ]
  },
  {
   "cell_type": "markdown",
   "id": "10616030-a87d-4cd8-95fd-00a8bdf2181a",
   "metadata": {},
   "source": [
    "Some arithmetic operators work with strings,but they might no do what you expect.For example,the `+` operator \"concatenates\" two strings;that is,it creates a new string that contains the first string followed by the second string:"
   ]
  },
  {
   "cell_type": "code",
   "execution_count": null,
   "id": "8b471aad-2297-4a1a-a18c-6bf2c99a2f69",
   "metadata": {},
   "outputs": [],
   "source": [
    "first + last"
   ]
  },
  {
   "cell_type": "markdown",
   "id": "0764915f-b657-4601-ad53-8db407de5e42",
   "metadata": {},
   "source": [
    "If you want to put a space between the words,you can use a string that contains a space:"
   ]
  },
  {
   "cell_type": "code",
   "execution_count": null,
   "id": "0430c774-49b1-421d-9104-be7c4e71d6c2",
   "metadata": {},
   "outputs": [],
   "source": [
    "first + ' ' + last"
   ]
  },
  {
   "cell_type": "markdown",
   "id": "f58ddf94-3bc6-4e8a-b5c8-46940ef4f402",
   "metadata": {},
   "source": [
    "Strings are used to store text data like names,address,titles,etc.\n",
    "\n",
    "When you read data from a file,you might see values that look like numbers,but they are actually strings,like this:"
   ]
  },
  {
   "cell_type": "code",
   "execution_count": null,
   "id": "c77c1d59-eb5a-4883-8d0d-e9209d50356d",
   "metadata": {},
   "outputs": [],
   "source": [
    "no_actually_a_number = '123'"
   ]
  },
  {
   "cell_type": "markdown",
   "id": "0bdd3316-ab25-43e7-9c0e-e28ba8a16877",
   "metadata": {},
   "source": [
    "If you try to do math with these strings,you might get an error:"
   ]
  },
  {
   "cell_type": "code",
   "execution_count": null,
   "id": "0062468c-5da9-4061-8a1b-29ce5503d5c2",
   "metadata": {},
   "outputs": [],
   "source": [
    "no_actually_a_number + 1"
   ]
  },
  {
   "cell_type": "markdown",
   "id": "c89e2891-d3b0-48b0-bd35-62ba2eb8fad8",
   "metadata": {},
   "source": [
    "Or you might get a surprising result:"
   ]
  },
  {
   "cell_type": "code",
   "execution_count": null,
   "id": "1b193fbd-9f03-46fd-a06a-6302a3451c2e",
   "metadata": {},
   "outputs": [],
   "source": [
    "no_actually_a_number + '1'"
   ]
  },
  {
   "cell_type": "markdown",
   "id": "19a35314-3169-4a48-9fcb-6e08b0cdba75",
   "metadata": {},
   "source": [
    "Fortunately,you can convert strings to numbers.\n",
    "\n",
    "If you have a string that contains only digits,you can convert it to an integer using the `int` function:"
   ]
  },
  {
   "cell_type": "code",
   "execution_count": null,
   "id": "fca1370f-ec23-41fc-85f3-9a59f17a39f1",
   "metadata": {},
   "outputs": [],
   "source": [
    "int('123')"
   ]
  },
  {
   "cell_type": "markdown",
   "id": "ab21c99e-eee3-4b69-bdad-81e68011e1e8",
   "metadata": {},
   "source": [
    "Or you can convert it to a floating-point number using `float`:"
   ]
  },
  {
   "cell_type": "code",
   "execution_count": null,
   "id": "427b744a-40e3-431b-bea0-5644c038baf0",
   "metadata": {},
   "outputs": [],
   "source": [
    "float('123')"
   ]
  },
  {
   "cell_type": "markdown",
   "id": "d8ef25b5-f24e-4290-a81f-c68457d39ca0",
   "metadata": {},
   "source": [
    "But if the string contains a decimal point,you can't convert it to an `int`:"
   ]
  },
  {
   "cell_type": "code",
   "execution_count": null,
   "id": "8b50d2e5-1212-429b-b3cd-395a9ff08220",
   "metadata": {},
   "outputs": [],
   "source": [
    "int('12.3')"
   ]
  },
  {
   "cell_type": "markdown",
   "id": "1f76b7d1-cab9-46ac-ad68-a05f5148ed6f",
   "metadata": {},
   "source": [
    "Going in the other direction,you can convert almost any type of value to a string using `str`:"
   ]
  },
  {
   "cell_type": "code",
   "execution_count": null,
   "id": "85680f3d-3f5c-48a0-bc94-63e23c8e7076",
   "metadata": {},
   "outputs": [],
   "source": [
    "str(123)"
   ]
  },
  {
   "cell_type": "code",
   "execution_count": null,
   "id": "ae875079-63de-41d0-a2d1-3b5e3501b38d",
   "metadata": {},
   "outputs": [],
   "source": [
    "str(12.3)"
   ]
  },
  {
   "cell_type": "markdown",
   "id": "8bacc801-6d4c-40b1-8984-9c7cf0691947",
   "metadata": {},
   "source": [
    "**Exercise:** When personal names are stored in a database,they are usually stored in three variables: a given name,a family name,and sometimes a middle name. For example,a list of great rock drummers might include:"
   ]
  },
  {
   "cell_type": "code",
   "execution_count": null,
   "id": "a218a355-dafb-466e-9abf-2e52981a6249",
   "metadata": {},
   "outputs": [],
   "source": [
    "given = 'Neil'\n",
    "middle = 'Ellwood'\n",
    "family = 'Peart'"
   ]
  },
  {
   "cell_type": "markdown",
   "id": "3c84ff7b-2ccb-4204-9504-a41486422f39",
   "metadata": {},
   "source": [
    "But names are often displayed different was in different contexts.For example,the first time you mention someone in an article,you might give all three names,like\"Neil Ellwood Peart\".But in the index of a book,you might put the family name first,like \"Peart,Neil Ellwood\".\n",
    "\n",
    "Write Python expressions that use the variables `given`,`middle`,and `family` to display Neil Peart's name in these two formats."
   ]
  },
  {
   "cell_type": "code",
   "execution_count": 23,
   "id": "647df102-467e-4f89-a63c-be63c189b8d9",
   "metadata": {},
   "outputs": [
    {
     "data": {
      "text/plain": [
       "'Neil Ellwood Peart'"
      ]
     },
     "execution_count": 23,
     "metadata": {},
     "output_type": "execute_result"
    }
   ],
   "source": [
    "# Solution goes here\n",
    "given + ' ' + middle + ' ' +family"
   ]
  },
  {
   "cell_type": "code",
   "execution_count": 24,
   "id": "df308153-0df4-4adc-8a75-f81204cf8631",
   "metadata": {},
   "outputs": [
    {
     "data": {
      "text/plain": [
       "'Peart,Neil Ellwood'"
      ]
     },
     "execution_count": 24,
     "metadata": {},
     "output_type": "execute_result"
    }
   ],
   "source": [
    "# Solution goes here\n",
    "family + ',' + given + ' ' + middle"
   ]
  },
  {
   "cell_type": "markdown",
   "id": "6703d952-a636-46be-b31e-7e34f5338c64",
   "metadata": {},
   "source": [
    "## Dates and times\n",
    "\n",
    "If you read data from a file,you might alse find that dates and times are represented with strings."
   ]
  },
  {
   "cell_type": "code",
   "execution_count": null,
   "id": "dccdf096-7812-422b-87b7-99ac3967c927",
   "metadata": {},
   "outputs": [],
   "source": [
    "not_really_a_date = 'June 4,1989'"
   ]
  },
  {
   "cell_type": "markdown",
   "id": "8e140c45-7422-4f07-b723-e3a1952b3217",
   "metadata": {},
   "source": [
    "To confirm that this value is a string,we can use the `type` function,which takes a value and reports its type."
   ]
  },
  {
   "cell_type": "code",
   "execution_count": 25,
   "id": "0ee2f2ba-7174-433d-9049-bd47fb2f2e77",
   "metadata": {},
   "outputs": [
    {
     "data": {
      "text/plain": [
       "str"
      ]
     },
     "execution_count": 25,
     "metadata": {},
     "output_type": "execute_result"
    }
   ],
   "source": [
    "type(not_really_a_date)"
   ]
  },
  {
   "cell_type": "markdown",
   "id": "52d7034e-6668-4cdf-b2fc-bc2707e61e33",
   "metadata": {},
   "source": [
    "`str` indicates that the value of `not_really_a_date` is a string.\n",
    "\n",
    "We get the same result with `not_really_a_time`,below:"
   ]
  },
  {
   "cell_type": "code",
   "execution_count": 26,
   "id": "511cef00-08b1-4a20-8700-34e1bd54b998",
   "metadata": {},
   "outputs": [],
   "source": [
    "not_really_a_time = '6:30:00'"
   ]
  },
  {
   "cell_type": "code",
   "execution_count": 27,
   "id": "4f6b080d-94d6-4620-acc4-df44cb4b82f0",
   "metadata": {},
   "outputs": [
    {
     "data": {
      "text/plain": [
       "str"
      ]
     },
     "execution_count": 27,
     "metadata": {},
     "output_type": "execute_result"
    }
   ],
   "source": [
    "type(not_really_a_time)"
   ]
  },
  {
   "cell_type": "markdown",
   "id": "e996fe7e-2f5e-4310-8855-e0cede148053",
   "metadata": {},
   "source": [
    "Representing dates and times using strings provides human-readable values,but they are not useful for doing computation.\n",
    "\n",
    "Fortunately,Python provides libraries for working with date and time data;the one we'll use is called Pandas.\n",
    "\n",
    "As always,we have to import a library before we use it;it is conventional to import Pandas with the abbreviated name `pd`:"
   ]
  },
  {
   "cell_type": "code",
   "execution_count": 31,
   "id": "2ea97d85-5d13-4923-9094-2914522f4335",
   "metadata": {},
   "outputs": [],
   "source": [
    "import pandas as pd"
   ]
  },
  {
   "cell_type": "markdown",
   "id": "c61328ab-92a1-43c6-aeb5-b5fc520294f0",
   "metadata": {},
   "source": [
    "Pandas provides a type called `Timestamp`,which represents a date and time.\n",
    "\n",
    "It also provides a function called `Timestamp`,which we can use to convert a string to a `Timestamp`:"
   ]
  },
  {
   "cell_type": "code",
   "execution_count": 32,
   "id": "d472f0c2-6e1a-4da4-b8d1-6b82b1030b6e",
   "metadata": {},
   "outputs": [
    {
     "data": {
      "text/plain": [
       "Timestamp('2021-05-20 06:30:00')"
      ]
     },
     "execution_count": 32,
     "metadata": {},
     "output_type": "execute_result"
    }
   ],
   "source": [
    "pd.Timestamp('6:30:00')"
   ]
  },
  {
   "cell_type": "markdown",
   "id": "358aa4b0-debf-4492-8c71-0eecb50989f6",
   "metadata": {},
   "source": [
    "Or we can do the same thing using the variable defined above."
   ]
  },
  {
   "cell_type": "code",
   "execution_count": 33,
   "id": "4857995d-3fde-4187-a6f0-0bd7412d9ef1",
   "metadata": {},
   "outputs": [
    {
     "data": {
      "text/plain": [
       "Timestamp('2021-05-20 06:30:00')"
      ]
     },
     "execution_count": 33,
     "metadata": {},
     "output_type": "execute_result"
    }
   ],
   "source": [
    "pd.Timestamp(not_really_a_time)"
   ]
  },
  {
   "cell_type": "markdown",
   "id": "8d4faa90-1672-470f-af73-69d5e2af37c4",
   "metadata": {},
   "source": [
    "In this example,the string specifies a time but no date,so Pandas fills in today's date.\n",
    "\n",
    "A `Timestamp` is a value,so you can assign it to a variable."
   ]
  },
  {
   "cell_type": "code",
   "execution_count": 34,
   "id": "a4a1ed88-838b-4a90-9af2-b59480bfd53b",
   "metadata": {},
   "outputs": [
    {
     "data": {
      "text/plain": [
       "Timestamp('1989-06-04 00:00:00')"
      ]
     },
     "execution_count": 34,
     "metadata": {},
     "output_type": "execute_result"
    }
   ],
   "source": [
    "date_of_birth = pd.Timestamp('June 4,1989')\n",
    "date_of_birth"
   ]
  },
  {
   "cell_type": "markdown",
   "id": "5fe582f5-c5da-4ede-a83b-ca5d2539ac40",
   "metadata": {},
   "source": [
    "If the string specifies a date but no time,Pandas fills in midnight as the default time.\n",
    "\n",
    "If you assign the `Timestamp` to a variable,you can use the variable name to get the year,month,and day,like this:"
   ]
  },
  {
   "cell_type": "code",
   "execution_count": 35,
   "id": "c6f5fc9d-01cc-44d5-bf71-edc7f0c12c8c",
   "metadata": {},
   "outputs": [
    {
     "data": {
      "text/plain": [
       "(1989, 6, 4)"
      ]
     },
     "execution_count": 35,
     "metadata": {},
     "output_type": "execute_result"
    }
   ],
   "source": [
    "date_of_birth.year, date_of_birth.month, date_of_birth.day"
   ]
  },
  {
   "cell_type": "markdown",
   "id": "43481142-94a7-49a8-8201-8c4102c62bd2",
   "metadata": {},
   "source": [
    "You can also gets the name of the month and the day of the week."
   ]
  },
  {
   "cell_type": "code",
   "execution_count": 36,
   "id": "3cc72a93-b678-4fe2-bd5c-adf6c5643c0d",
   "metadata": {},
   "outputs": [
    {
     "data": {
      "text/plain": [
       "('Sunday', 'June')"
      ]
     },
     "execution_count": 36,
     "metadata": {},
     "output_type": "execute_result"
    }
   ],
   "source": [
    "date_of_birth.day_name(), date_of_birth.month_name()"
   ]
  },
  {
   "cell_type": "markdown",
   "id": "fb1dc6bf-06be-4539-af6b-25ed7d93ca1f",
   "metadata": {},
   "source": [
    "`Timestamp` provides a function called `now` that returns the current date and time."
   ]
  },
  {
   "cell_type": "code",
   "execution_count": 38,
   "id": "73958f58-5d47-491a-8da4-8bc7d6a9a229",
   "metadata": {},
   "outputs": [
    {
     "data": {
      "text/plain": [
       "Timestamp('2021-05-20 09:59:28.089028')"
      ]
     },
     "execution_count": 38,
     "metadata": {},
     "output_type": "execute_result"
    }
   ],
   "source": [
    "now = pd.Timestamp.now()\n",
    "now"
   ]
  },
  {
   "cell_type": "markdown",
   "id": "50cb53cb-7937-4e11-985b-5e6889d14524",
   "metadata": {},
   "source": [
    "**Exercise:** Use the value of `now` to display the name of the current month and day of the week."
   ]
  },
  {
   "cell_type": "code",
   "execution_count": 40,
   "id": "ccdcc3c7-bc17-4682-80b2-9186d9084a90",
   "metadata": {},
   "outputs": [
    {
     "data": {
      "text/plain": [
       "('May', 'Thursday')"
      ]
     },
     "execution_count": 40,
     "metadata": {},
     "output_type": "execute_result"
    }
   ],
   "source": [
    "# Solution goes here\n",
    "now.month_name(),now.day_name()"
   ]
  },
  {
   "cell_type": "markdown",
   "id": "9f5d4a54-ae61-4599-9be5-63698fc11d58",
   "metadata": {},
   "source": [
    "## Timedelta\n",
    "\n",
    "`Timestamp` values support some arithmetic operations.For example,you can compute the difference between two `Timestamps`:"
   ]
  },
  {
   "cell_type": "code",
   "execution_count": 41,
   "id": "6fa57568-2fc3-4533-8481-39e4764860a7",
   "metadata": {},
   "outputs": [
    {
     "data": {
      "text/plain": [
       "Timedelta('11673 days 09:59:28.089028')"
      ]
     },
     "execution_count": 41,
     "metadata": {},
     "output_type": "execute_result"
    }
   ],
   "source": [
    "age = now - date_of_birth\n",
    "age"
   ]
  },
  {
   "cell_type": "markdown",
   "id": "227144a7-2056-48b8-9312-9cb5b19f6a1a",
   "metadata": {},
   "source": [
    "The result is a `Timedelta` that represents the current age of someone born on `date_of_birth`.\n",
    "\n",
    "The `Timedelta` contains `components` that store the number of days,hour,etc.between the two `Timestamp` values."
   ]
  },
  {
   "cell_type": "code",
   "execution_count": 42,
   "id": "aec75307-1274-4f1b-b0e2-666091574c92",
   "metadata": {},
   "outputs": [
    {
     "data": {
      "text/plain": [
       "Components(days=11673, hours=9, minutes=59, seconds=28, milliseconds=89, microseconds=28, nanoseconds=0)"
      ]
     },
     "execution_count": 42,
     "metadata": {},
     "output_type": "execute_result"
    }
   ],
   "source": [
    "age.components"
   ]
  },
  {
   "cell_type": "markdown",
   "id": "2851b9be-f8cc-4208-8769-7f420bafe0bc",
   "metadata": {},
   "source": [
    "You can get one of the components like this:"
   ]
  },
  {
   "cell_type": "code",
   "execution_count": 44,
   "id": "410121ef-2eb2-4cfd-93f2-6f174c7efc67",
   "metadata": {},
   "outputs": [
    {
     "data": {
      "text/plain": [
       "11673"
      ]
     },
     "execution_count": 44,
     "metadata": {},
     "output_type": "execute_result"
    }
   ],
   "source": [
    "age.days"
   ]
  },
  {
   "cell_type": "markdown",
   "id": "08bb5502-1c56-48df-9074-00d22bdf486b",
   "metadata": {},
   "source": [
    "The biggest component of `Timedelta` is days,not years,because days are well defined and years are problematic.\n",
    "\n",
    "Most years are 365 days,but some are 366.The average calendar year is 365.24 days,which is a very good approximation of a solar year,[but it is not exact.](https://pumas.jpl.nasa.gov/files/04_21_97_1.pdf)\n",
    "\n",
    "One way to compute age in years is to divide age in days by 365.24:"
   ]
  },
  {
   "cell_type": "code",
   "execution_count": 45,
   "id": "9663acbe-b824-4121-8f67-d544ee72d505",
   "metadata": {},
   "outputs": [
    {
     "data": {
      "text/plain": [
       "31.959807250027378"
      ]
     },
     "execution_count": 45,
     "metadata": {},
     "output_type": "execute_result"
    }
   ],
   "source": [
    "age.days / 365.24"
   ]
  },
  {
   "cell_type": "markdown",
   "id": "a0940297-2b5d-4add-921c-008dcbe5d85c",
   "metadata": {},
   "source": [
    "But people usually report their ages in integer years.We can use the Numpy `floor` function to round down:"
   ]
  },
  {
   "cell_type": "code",
   "execution_count": 46,
   "id": "116fde2b-78fa-4526-b47e-c70a57f96efd",
   "metadata": {},
   "outputs": [
    {
     "data": {
      "text/plain": [
       "31.0"
      ]
     },
     "execution_count": 46,
     "metadata": {},
     "output_type": "execute_result"
    }
   ],
   "source": [
    "import numpy as np\n",
    "\n",
    "np.floor(age.days / 365.24)"
   ]
  },
  {
   "cell_type": "markdown",
   "id": "1602e916-f811-4196-a790-b87826788618",
   "metadata": {},
   "source": [
    "Or the `ceil` function (which stands for \"ceiling\") to round up:"
   ]
  },
  {
   "cell_type": "code",
   "execution_count": 47,
   "id": "83c38357-2ab3-404c-b79d-f8693554edea",
   "metadata": {},
   "outputs": [
    {
     "data": {
      "text/plain": [
       "32.0"
      ]
     },
     "execution_count": 47,
     "metadata": {},
     "output_type": "execute_result"
    }
   ],
   "source": [
    "np.ceil(age.days / 365.24)"
   ]
  },
  {
   "cell_type": "markdown",
   "id": "4556b28e-8d2a-4475-b47d-a160786d86ec",
   "metadata": {},
   "source": [
    "We can also compare `Timestamp` values to see which comes first.\n",
    "\n",
    "For example,let's see if a person with a given birthdate has already had a birthday this year.\n",
    "\n",
    "We can create a new `Timestamp` with the year from `now` and the month and day from `date_of_birth`."
   ]
  },
  {
   "cell_type": "code",
   "execution_count": 48,
   "id": "7a4cf155-0cc3-435f-8151-19247010ca36",
   "metadata": {},
   "outputs": [
    {
     "data": {
      "text/plain": [
       "Timestamp('2021-06-04 00:00:00')"
      ]
     },
     "execution_count": 48,
     "metadata": {},
     "output_type": "execute_result"
    }
   ],
   "source": [
    "bday_this_year = pd.Timestamp(now.year, date_of_birth.month, date_of_birth.day)\n",
    "bday_this_year"
   ]
  },
  {
   "cell_type": "markdown",
   "id": "3ddf9de8-a8fc-4d68-a568-9724bd9ea052",
   "metadata": {},
   "source": [
    "The result represents the person's birthday this year.Now we can use the `>` operator to check whether `now` is later than the birthday:"
   ]
  },
  {
   "cell_type": "code",
   "execution_count": 49,
   "id": "facf852d-cef9-47dd-bae2-46d4e4de8de3",
   "metadata": {},
   "outputs": [
    {
     "data": {
      "text/plain": [
       "False"
      ]
     },
     "execution_count": 49,
     "metadata": {},
     "output_type": "execute_result"
    }
   ],
   "source": [
    "now > bday_this_year"
   ]
  },
  {
   "cell_type": "markdown",
   "id": "f2b6f9f1-0399-4279-a059-0119cf0523ee",
   "metadata": {},
   "source": [
    "The result is either `True` or `False`,which are special values in Python used to represent result from this kind of comparison.\n",
    "\n",
    "These values belong to a type called `bool`, short for \"Boolean algebra\",which is a branch of algebra where all values are either true or false."
   ]
  },
  {
   "cell_type": "code",
   "execution_count": 50,
   "id": "9f1aea64-cf89-4cce-8979-a22a46bda3b0",
   "metadata": {},
   "outputs": [
    {
     "data": {
      "text/plain": [
       "bool"
      ]
     },
     "execution_count": 50,
     "metadata": {},
     "output_type": "execute_result"
    }
   ],
   "source": [
    "type(True)"
   ]
  },
  {
   "cell_type": "code",
   "execution_count": 51,
   "id": "f4191792-d800-41b3-9648-083f569373b4",
   "metadata": {},
   "outputs": [
    {
     "data": {
      "text/plain": [
       "bool"
      ]
     },
     "execution_count": 51,
     "metadata": {},
     "output_type": "execute_result"
    }
   ],
   "source": [
    "type(False)"
   ]
  },
  {
   "cell_type": "markdown",
   "id": "75636e7d-b678-41ed-98a5-e7456d8332ac",
   "metadata": {},
   "source": [
    "**Exercise:** Any two people with different birthdays have a \"Double Day\" when one is twice as old as the other.\n",
    "\n",
    "Suppose you are given two `Timestamp` values,`d1` and `d2`,that represent birthdays for two people. Use `Timestamp` arithmetic to compute their double day.\n",
    "\n",
    "Here are two example dates;with these dates,the result should be December 19,2009."
   ]
  },
  {
   "cell_type": "code",
   "execution_count": 52,
   "id": "36ee7d9d-7489-4200-bb8f-35091a0e08a3",
   "metadata": {},
   "outputs": [],
   "source": [
    "d1 = pd.Timestamp('2003-07-12')"
   ]
  },
  {
   "cell_type": "code",
   "execution_count": 53,
   "id": "c10b4f78-c8f6-4db7-8ca5-0966b7a7dd35",
   "metadata": {},
   "outputs": [],
   "source": [
    "d2 = pd.Timestamp('2006-09-30')"
   ]
  },
  {
   "cell_type": "code",
   "execution_count": 54,
   "id": "dff5f063-78ed-4086-a876-084fd603573c",
   "metadata": {},
   "outputs": [],
   "source": [
    "# Solution goes here"
   ]
  },
  {
   "cell_type": "markdown",
   "id": "c91605ca-4fb5-45fa-bae4-927de9e86097",
   "metadata": {},
   "source": [
    "## Location\n",
    "\n",
    "There are many ways to represent geographical locations,but the most common,at least for global data,is latitude and longitude.\n",
    "\n",
    "When stored as strings,latitude and longitude are expressed in degrees with compass directions N,S,E,and W. for example,this string represents the location of Boston,MA,USA:"
   ]
  },
  {
   "cell_type": "code",
   "execution_count": 58,
   "id": "d0d421d7-a961-4263-acfd-b824dcc6096c",
   "metadata": {},
   "outputs": [],
   "source": [
    "lat_lon_string = '42.3601° N, 71.0589° W'"
   ]
  },
  {
   "cell_type": "markdown",
   "id": "097d3c41-863a-46d7-8a47-cb97ad586a5d",
   "metadata": {},
   "source": [
    "When we compute with location information,we use floating=point numbers,with\n",
    "\n",
    "* Positive latitude for the northern hemisphere,negative latitude for the southern hemisphere,and\n",
    "\n",
    "* Positive longitude for the eastern hemisphere and negative latitude for the western hemisphere."
   ]
  },
  {
   "cell_type": "markdown",
   "id": "ca234cb9-e296-4fc4-9a72-35f73663d816",
   "metadata": {},
   "source": [
    "Of course,the choice of the origin and the orientation of positive and negative are arbitrary choices that were made for historical reasons. We might not be able to change conventions like these,but we should be aware that they are conventions.\n",
    "\n",
    "Here's how we might represent the location of Boston with two variables."
   ]
  },
  {
   "cell_type": "code",
   "execution_count": 59,
   "id": "5cf8cdba-e3c9-4b7e-9af0-cf35bf9939f0",
   "metadata": {},
   "outputs": [],
   "source": [
    "lat = 42.3601\n",
    "lon = -71.0589"
   ]
  },
  {
   "cell_type": "markdown",
   "id": "b04c7dd0-0d28-415f-8eea-245b051f516d",
   "metadata": {},
   "source": [
    "It is also possible to combine two numbers into a composite value and assign it to a single variable:"
   ]
  },
  {
   "cell_type": "code",
   "execution_count": 60,
   "id": "8fc10f65-62df-4f75-82ec-4ad96e5a7932",
   "metadata": {},
   "outputs": [
    {
     "data": {
      "text/plain": [
       "(42.3601, -71.0589)"
      ]
     },
     "execution_count": 60,
     "metadata": {},
     "output_type": "execute_result"
    }
   ],
   "source": [
    "boston = lat,lon\n",
    "boston"
   ]
  },
  {
   "cell_type": "markdown",
   "id": "c55f49c7-2ce6-44f6-843e-67d0f4aa7295",
   "metadata": {},
   "source": [
    "The type of this variable is `tuple`, which is a mathematical term for a value that contains a sequence of elements.Math people pronounce it \"tuh'ple\",but computational people usually say \"too'ple\".Take your pick."
   ]
  },
  {
   "cell_type": "code",
   "execution_count": 61,
   "id": "0feb89f6-e899-4e53-80af-1f8afdbdacbf",
   "metadata": {},
   "outputs": [
    {
     "data": {
      "text/plain": [
       "tuple"
      ]
     },
     "execution_count": 61,
     "metadata": {},
     "output_type": "execute_result"
    }
   ],
   "source": [
    "type(boston)"
   ]
  },
  {
   "cell_type": "markdown",
   "id": "ba1d3ba0-50dc-4401-b5d4-e0bdd7cb2f4a",
   "metadata": {},
   "source": [
    "If you have a tuple with two elements,you can assign them to two variables,like this:"
   ]
  },
  {
   "cell_type": "code",
   "execution_count": 62,
   "id": "69430bcd-26e3-45e0-a795-925b1c49cf11",
   "metadata": {},
   "outputs": [
    {
     "data": {
      "text/plain": [
       "42.3601"
      ]
     },
     "execution_count": 62,
     "metadata": {},
     "output_type": "execute_result"
    }
   ],
   "source": [
    "y, x = boston\n",
    "y"
   ]
  },
  {
   "cell_type": "code",
   "execution_count": 63,
   "id": "64d3bb31-f7d6-4585-a733-91e728351941",
   "metadata": {},
   "outputs": [
    {
     "data": {
      "text/plain": [
       "-71.0589"
      ]
     },
     "execution_count": 63,
     "metadata": {},
     "output_type": "execute_result"
    }
   ],
   "source": [
    "x"
   ]
  },
  {
   "cell_type": "markdown",
   "id": "87be283b-72cc-4006-bb94-6b5135beb124",
   "metadata": {},
   "source": [
    "Notice that I assigned latitude to `y` and longitude to `x`,because a `y` coordinate usually goes up and down like latitude,and an `x` coordinate usually goes side-to-side like longitude.\n",
    "\n",
    "**Exercise:** Find the latitude and longitude of the place you were born or someplace you think of as your \"home town\".[You can use this web page to look it up](https://www.latlong.net/),among others.\n",
    "\n",
    "Make a tuple of floating-point numbers that represents this location."
   ]
  },
  {
   "cell_type": "code",
   "execution_count": 64,
   "id": "e7a7fc78-de21-4828-adec-af665b8cd843",
   "metadata": {},
   "outputs": [],
   "source": [
    "# Solution goes here"
   ]
  },
  {
   "cell_type": "markdown",
   "id": "089082eb-d910-4cce-906d-ca000e9c88c0",
   "metadata": {},
   "source": [
    "## Distance\n",
    "\n",
    "If you are given two tuples that represent locations,you can compute the approximate distance between them,along the surface of the global,using the haversine function.\n",
    "\n",
    "If you are curious about it,[you can read an explanation in this article](https://janakiev.com/blog/gps-points-distance-python/).\n",
    "\n",
    "To estimate a haversine distance,we have to compute the haversine function,which is defined:\n",
    "$\\begin{aligned}haversine(θ) = sin^2(θ/2)\\end{aligned}$\n",
    "\n",
    "Where θ is an angle in radians.\n",
    "\n",
    "We can compute this function in Python like this:"
   ]
  },
  {
   "cell_type": "code",
   "execution_count": 65,
   "id": "6d49131e-245a-4aa2-8764-ec068fdd24ed",
   "metadata": {},
   "outputs": [
    {
     "data": {
      "text/plain": [
       "0.22984884706593015"
      ]
     },
     "execution_count": 65,
     "metadata": {},
     "output_type": "execute_result"
    }
   ],
   "source": [
    "import numpy as np\n",
    "\n",
    "θ = 1\n",
    "np.sin(θ/2)**2"
   ]
  },
  {
   "cell_type": "markdown",
   "id": "6d78995c-e8e7-4d3b-b109-8aa5db0d7dca",
   "metadata": {},
   "source": [
    "You can use Greek letters in variable names,but there is currently no way to type them in Jupyter/Colab,so I usually copy them from a web page and paste them in.\n",
    "\n",
    "To avoid the inconvenience,it is more common to write out letter names,like this:"
   ]
  },
  {
   "cell_type": "code",
   "execution_count": 66,
   "id": "f6dee673-a9fd-4913-a556-6a73bb19ec0b",
   "metadata": {},
   "outputs": [
    {
     "data": {
      "text/plain": [
       "0.22984884706593015"
      ]
     },
     "execution_count": 66,
     "metadata": {},
     "output_type": "execute_result"
    }
   ],
   "source": [
    "theta = 1\n",
    "np.sin(theta/2)**2"
   ]
  },
  {
   "cell_type": "markdown",
   "id": "bd731e43-c4ee-467c-9ab8-f11af14d21b3",
   "metadata": {},
   "source": [
    "**Exercise:** This is a good time to remind you that the operator for exponentiation is `**` .\n",
    "\n",
    "In some other languages the operator for exponentiation is `^`. That is also an operator in Python,but it performs another operation altogether.\n",
    "\n",
    "Try out the previous expression,replacing `**` with `^`,and see what error message you get.Remember this message in case you see it in the future!"
   ]
  },
  {
   "cell_type": "code",
   "execution_count": 67,
   "id": "f996e1dd-46a4-48f7-ac11-daf5adac08cb",
   "metadata": {},
   "outputs": [],
   "source": [
    "# Solution goes here"
   ]
  },
  {
   "cell_type": "markdown",
   "id": "5ec126f7-5252-407b-8f6f-fdb97de57440",
   "metadata": {},
   "source": [
    "## Defining functions\n",
    "\n"
   ]
  }
 ],
 "metadata": {
  "kernelspec": {
   "display_name": "Python 3",
   "language": "python",
   "name": "python3"
  },
  "language_info": {
   "codemirror_mode": {
    "name": "ipython",
    "version": 3
   },
   "file_extension": ".py",
   "mimetype": "text/x-python",
   "name": "python",
   "nbconvert_exporter": "python",
   "pygments_lexer": "ipython3",
   "version": "3.7.4"
  }
 },
 "nbformat": 4,
 "nbformat_minor": 5
}
